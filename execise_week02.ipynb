{
  "nbformat": 4,
  "nbformat_minor": 0,
  "metadata": {
    "colab": {
      "provenance": [],
      "toc_visible": true,
      "authorship_tag": "ABX9TyO6u/L1rNGm//F/kiQZLrM8",
      "include_colab_link": true
    },
    "kernelspec": {
      "name": "python3",
      "display_name": "Python 3"
    },
    "language_info": {
      "name": "python"
    }
  },
  "cells": [
    {
      "cell_type": "markdown",
      "metadata": {
        "id": "view-in-github",
        "colab_type": "text"
      },
      "source": [
        "<a href=\"https://colab.research.google.com/github/BaTienTran/data_analysis/blob/main/execise_week02.ipynb\" target=\"_parent\"><img src=\"https://colab.research.google.com/assets/colab-badge.svg\" alt=\"Open In Colab\"/></a>"
      ]
    },
    {
      "cell_type": "markdown",
      "source": [
        "## Bat Dau"
      ],
      "metadata": {
        "id": "m1oRtafPFjfr"
      }
    },
    {
      "cell_type": "code",
      "source": [
        "print(\"Hello World\")"
      ],
      "metadata": {
        "colab": {
          "base_uri": "https://localhost:8080/"
        },
        "id": "dvzGSRTqF0au",
        "outputId": "756ca9f7-8d30-41f4-9a85-80e721504368"
      },
      "execution_count": 5,
      "outputs": [
        {
          "output_type": "stream",
          "name": "stdout",
          "text": [
            "Hello World\n"
          ]
        }
      ]
    },
    {
      "cell_type": "markdown",
      "source": [
        "# Comment"
      ],
      "metadata": {
        "id": "iqQ3LwbNH730"
      }
    },
    {
      "cell_type": "code",
      "source": [
        "# comment"
      ],
      "metadata": {
        "id": "K3jc-MGNIhO2"
      },
      "execution_count": 6,
      "outputs": []
    },
    {
      "cell_type": "markdown",
      "source": [
        "# Indentation"
      ],
      "metadata": {
        "id": "OUGGZkfZJocw"
      }
    },
    {
      "cell_type": "code",
      "source": [
        "score = 80\n",
        "if score >=60 :\n",
        "  print(\"Pass\")"
      ],
      "metadata": {
        "colab": {
          "base_uri": "https://localhost:8080/"
        },
        "id": "kRN1BP0fLdyT",
        "outputId": "d07238d6-4e4b-4a09-9a53-fb64cb18e68d"
      },
      "execution_count": 8,
      "outputs": [
        {
          "output_type": "stream",
          "name": "stdout",
          "text": [
            "Pass\n"
          ]
        }
      ]
    },
    {
      "cell_type": "markdown",
      "source": [
        "# Python Variables"
      ],
      "metadata": {
        "id": "Gs8oQhvuLvER"
      }
    },
    {
      "cell_type": "code",
      "source": [
        "# Python Variables\n",
        "x = 2\n",
        "price = 2.5\n",
        "word = 'Hello'\n",
        "\n",
        "word = 'Hello'\n",
        "word = \"Hello\"\n",
        "word = '''Hello'''"
      ],
      "metadata": {
        "id": "-7KriPqvL2pF"
      },
      "execution_count": null,
      "outputs": []
    },
    {
      "cell_type": "markdown",
      "source": [
        "# Python_version()"
      ],
      "metadata": {
        "id": "m9IOkyRZL8cm"
      }
    },
    {
      "cell_type": "code",
      "source": [
        "# comment\n",
        "from platform import python_version\n",
        "print(\"Python Version:\", python_version())"
      ],
      "metadata": {
        "colab": {
          "base_uri": "https://localhost:8080/"
        },
        "id": "Gb_OL7gIMJ66",
        "outputId": "468d00b1-fd69-4744-b85b-9c53ef2bfd15"
      },
      "execution_count": 9,
      "outputs": [
        {
          "output_type": "stream",
          "name": "stdout",
          "text": [
            "Python Version: 3.12.11\n"
          ]
        }
      ]
    },
    {
      "cell_type": "markdown",
      "source": [
        "# Python Data Types"
      ],
      "metadata": {
        "id": "tgQ3dDPEMdQQ"
      }
    },
    {
      "cell_type": "code",
      "source": [
        "x = \"Hello World\" #str\n",
        "print(\"Data type: {x}\")\n",
        "x = 2 #int\n",
        "x = 2.5 #float\n",
        "x = 7j #complex"
      ],
      "metadata": {
        "colab": {
          "base_uri": "https://localhost:8080/"
        },
        "id": "U3TWv8pKMgLw",
        "outputId": "797aaf01-948a-42e3-d087-5a5714b31df9"
      },
      "execution_count": 11,
      "outputs": [
        {
          "output_type": "stream",
          "name": "stdout",
          "text": [
            "Data type: {x}\n"
          ]
        }
      ]
    }
  ]
}